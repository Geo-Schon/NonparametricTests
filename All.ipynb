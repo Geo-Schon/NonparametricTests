{
 "cells": [
  {
   "cell_type": "code",
   "execution_count": 1,
   "id": "6714e5ad-1969-464e-864b-6d15985b78f7",
   "metadata": {
    "tags": []
   },
   "outputs": [],
   "source": [
    "import numpy as np\n",
    "import scipy.stats as stats\n",
    "import matplotlib.pyplot as plt"
   ]
  },
  {
   "cell_type": "markdown",
   "id": "f9b472c3-3ec9-485a-abc2-cc9315133c11",
   "metadata": {},
   "source": [
    "### Задача 1\n",
    "**Даны две  независимые выборки. Не соблюдается условие нормальности\\\n",
    "x1 = 380,420, 290\\\n",
    "y1 = 140,360,200,900\\\n",
    "Сделайте вывод по результатам, полученным с помощью функции**"
   ]
  },
  {
   "cell_type": "code",
   "execution_count": 2,
   "id": "cd4da139-432b-4aad-ae90-b55ad12030eb",
   "metadata": {
    "tags": []
   },
   "outputs": [
    {
     "name": "stdout",
     "output_type": "stream",
     "text": [
      "Cтатистически значимых различий нет, нулевая гипотеза не отвергается\n"
     ]
    }
   ],
   "source": [
    "a = 0.05\n",
    "x1= np.array([380, 420, 290])\n",
    "y1= np.array([140, 360, 200, 900])\n",
    "d = stats.mannwhitneyu(x1,y1)\n",
    "s, p = stats.mannwhitneyu(x1,y1)\n",
    "if p > a: \n",
    "    print('Cтатистически значимых различий нет, нулевая гипотеза не отвергается') \n",
    "else: \n",
    "    print('Cтатистически значимые различия присутствуют, нулевая гипотеза отвергается')"
   ]
  },
  {
   "cell_type": "markdown",
   "id": "e600fb42-522e-4f19-85dd-a5ccc782672b",
   "metadata": {},
   "source": [
    "### Задача 2\n",
    "**Исследовалось влияние препарата на уровень давления пациентов. Сначала измерялось давление до приема препарата, потом через 10 минут и через 30 минут. Есть ли статистически значимые различия?\\\n",
    "1е измерение до приема препарата: 150, 160, 165, 145, 155\\\n",
    "2е измерение через 10 минут: 140, 155, 150,  130, 135\\\n",
    "3е измерение через 30 минут: 130, 130, 120, 130, 125**"
   ]
  },
  {
   "cell_type": "code",
   "execution_count": 3,
   "id": "11aac477-95ab-475e-b0ea-fecaac930fc4",
   "metadata": {
    "tags": []
   },
   "outputs": [
    {
     "name": "stdout",
     "output_type": "stream",
     "text": [
      "Есть статистически значимые различия, нулевая гипотеза отвергается. Препарат влияет на давление\n"
     ]
    }
   ],
   "source": [
    "a=0.05\n",
    "x1=np.array([150, 160, 165, 145, 155])\n",
    "x2=np.array([140, 155, 150, 130, 135])\n",
    "x3=np.array([130, 130, 120, 130, 125])\n",
    "d = stats.friedmanchisquare(x1, x2, x3)\n",
    "s, p = stats.friedmanchisquare(x1, x2, x3)\n",
    "if p > a:\n",
    "    print('Cтатистически значимых различий нет, нулевая гипотеза не отвергается. Препарат не влияет на давление')\n",
    "else:\n",
    "    print('Есть статистически значимые различия, нулевая гипотеза отвергается. Препарат влияет на давление')"
   ]
  },
  {
   "cell_type": "markdown",
   "id": "a89c33f7-dc17-43ab-aecb-14744256a974",
   "metadata": {},
   "source": [
    "### Задача 3\n",
    "**Сравните 1 и 2 е измерения, предполагая, что 3го измерения через 30 минут не было.**"
   ]
  },
  {
   "cell_type": "code",
   "execution_count": 4,
   "id": "631163f6-b720-490e-b90e-3db79ea1c517",
   "metadata": {
    "tags": []
   },
   "outputs": [
    {
     "name": "stdout",
     "output_type": "stream",
     "text": [
      "Cтатистически значимых различий нет, нулевая гипотеза не отвергается. Препарат не влияет на давление\n"
     ]
    }
   ],
   "source": [
    "a=0.05\n",
    "x1=np.array([150, 160, 165, 145, 155])\n",
    "x2=np.array([140, 155, 150, 130, 135])\n",
    "d = stats.wilcoxon(x1, x2)\n",
    "s, p = stats.wilcoxon(x1, x2)\n",
    "if p > a:\n",
    "    print('Cтатистически значимых различий нет, нулевая гипотеза не отвергается. Препарат не влияет на давление')\n",
    "else:\n",
    "    print('Есть статистически значимые различия, нулевая гипотеза отвергается. Препарат влияет на давление')"
   ]
  },
  {
   "cell_type": "markdown",
   "id": "a1c25708-bc18-44e0-b781-7f937950c87b",
   "metadata": {},
   "source": [
    "### Задача 4\n",
    "**Даны 3 группы  учеников плавания.\\\n",
    "В 1 группе время на дистанцию 50 м составляют: 56, 60, 62, 55, 71, 67, 59, 58, 64, 67\\\n",
    "Вторая группа : 57, 58, 69, 48, 72, 70, 68, 71, 50, 53\\\n",
    "Третья группа: 57, 67, 49, 48, 47, 55, 66, 51, 54**"
   ]
  },
  {
   "cell_type": "code",
   "execution_count": 5,
   "id": "d2fa368c-2e1c-40a0-b5c5-33b4c8441f70",
   "metadata": {
    "tags": []
   },
   "outputs": [
    {
     "name": "stdout",
     "output_type": "stream",
     "text": [
      "Cтатистически значимых различий нет, нулевая гипотеза не отвергается. Ученики проплывают дистанцию за одинаковое время\n"
     ]
    }
   ],
   "source": [
    "a=0.05\n",
    "x1=np.array([56, 60, 62, 55, 71, 67, 59, 58, 64, 67])\n",
    "x2=np.array([57, 58, 69, 48, 72, 70, 68, 71, 50, 53])\n",
    "x3=np.array([57, 67, 49, 48, 47, 55, 66, 51, 54])\n",
    "d = stats.kruskal(x1,x2,x3)\n",
    "s, p = stats.kruskal(x1,x2,x3)\n",
    "if p > a:\n",
    "    print('Cтатистически значимых различий нет, нулевая гипотеза не отвергается. Ученики проплывают дистанцию за одинаковое время')\n",
    "else:\n",
    "    print('Есть статистически значимые различия, нулевая гипотеза отвергается. Ученики проплывают дистанцию за разное время')"
   ]
  },
  {
   "cell_type": "markdown",
   "id": "6e2955c7-a2d5-4d28-b553-7460e0bfd433",
   "metadata": {},
   "source": [
    "### Задача 5\n",
    "**Заявляется, что партия изготавливается со средним арифметическим 2,5 см. Проверить данную гипотезу, если известно, что размеры изделий подчинены нормальному закону распределения. \n",
    "Объем выборки 10, уровень статистической значимости 5%: 2.51, 2.35, 2.74, 2.56, 2.40, 2.36, 2.65, 2.7, 2.67, 2.34**"
   ]
  },
  {
   "cell_type": "markdown",
   "id": "c156ff82-021d-47ef-b2aa-ce75eef37418",
   "metadata": {},
   "source": [
    "Определяем нулевую гипотезу. Средний размер изделий равен 2.5 см.  \n",
    "$H_0$ : $М = 2,5$  \n",
    "\n",
    "формируем альтернативную гипотезу. Средний размер изделий не равен 2.5 см.  \n",
    "$H_1$ : $М \\neq 2,5$\n",
    "\n",
    "Рассчитываем среднее арифметическое изделий:\\\n",
    "$\\overline{x} = \\frac{\\sum\\limits_{i=1}^{n} x_i}{n}$\n",
    "\n",
    "Рассчитываем стандартное отклонение:\\\n",
    "$s = \\sqrt{\\frac{\\sum\\limits_{i=1}^{n} (x_i - \\overline{x})^2}{n-1}}$\n",
    "\n",
    "Вычисляем t-статистику:  \n",
    "$t = \\frac{\\overline{x} - 2.5}{\\frac{s}{\\sqrt{n}}}$\n",
    "\n",
    "Для определения критической области выборки при статистической значимости в 5% сравниваем t-статистику с t-критическим. Если t-статистика попадает в критическую область, то верна H0 гипотеза.  "
   ]
  },
  {
   "cell_type": "code",
   "execution_count": 13,
   "id": "ea71373f-96f7-4a81-8cfb-3dee8b2307f2",
   "metadata": {
    "tags": []
   },
   "outputs": [
    {
     "name": "stdout",
     "output_type": "stream",
     "text": [
      "Нулевая гипотеза не отвергается. Партия изготавливается со средним арифметическим 2,5 см\n"
     ]
    }
   ],
   "source": [
    "a = 0.05\n",
    "data = [2.51, 2.35, 2.74, 2.56, 2.40, 2.36, 2.65, 2.7, 2.67, 2.34]\n",
    "n = len(data)\n",
    "mean = np.mean(data)\n",
    "std = np.std(data, ddof=1)\n",
    "t_statistical = (mean - 2.5) / (std / np.sqrt(10))\n",
    "t_critical = stats.t.ppf(1 - a, n-1)\n",
    "if t_statistical < t_critical:\n",
    "    print('Нулевая гипотеза не отвергается. Партия изготавливается со средним арифметическим 2,5 см')\n",
    "else:\n",
    "    print('Нулевая гипотеза отвергается. Партия изготавливается со средним арифметическим не равным 2,5 см')"
   ]
  },
  {
   "cell_type": "code",
   "execution_count": 29,
   "id": "25f0aeca-3c8f-4323-8331-b8fe459b3b93",
   "metadata": {
    "tags": []
   },
   "outputs": [
    {
     "data": {
      "image/png": "[encoded data removed]",
      "text/plain": [
       "<Figure size 640x480 with 1 Axes>"
      ]
     },
     "metadata": {},
     "output_type": "display_data"
    }
   ],
   "source": [
    "x = np.linspace(-5, 5, 50)\n",
    "y = stats.t.pdf(x, 10)\n",
    "plt.plot(x, y, '--g', label=\"t-распределение\")\n",
    "plt.axvline(t_critical, color=\"r\", label=\"t-критическое\")\n",
    "plt.axvline(t_statistical, color=\"b\", label=\"t-статистическое\")\n",
    "plt.legend()\n",
    "plt.show()"
   ]
  },
  {
   "cell_type": "code",
   "execution_count": null,
   "id": "27f22a96-ad4b-4850-b4a0-abae9b7173cf",
   "metadata": {},
   "outputs": [],
   "source": []
  }
 ],
 "metadata": {
  "kernelspec": {
   "display_name": "Python 3 (ipykernel)",
   "language": "python",
   "name": "python3"
  },
  "language_info": {
   "codemirror_mode": {
    "name": "ipython",
    "version": 3
   },
   "file_extension": ".py",
   "mimetype": "text/x-python",
   "name": "python",
   "nbconvert_exporter": "python",
   "pygments_lexer": "ipython3",
   "version": "3.11.4"
  }
 },
 "nbformat": 4,
 "nbformat_minor": 5
}
